{
 "cells": [
  {
   "cell_type": "markdown",
   "id": "7da08249",
   "metadata": {},
   "source": [
    "# **Conditionals**"
   ]
  },
  {
   "cell_type": "markdown",
   "id": "d6a1950f",
   "metadata": {},
   "source": [
    "Koşullar, programcının programınızın **karar vermesine izin verir: Sanki programınız, belirli koşullara bağlı olarak soldan veya sağdan giden yolu seçme seçeneğine sahipmiş** gibi.\n",
    "\n",
    "Python'da yerleşik olarak, matematiksel sorular sormak için kullanılabilecek bir dizi **operatör** bulunur.\n",
    "\n",
    "- \">\" and \"<\" symbols are probably quite familiar to you.\n",
    "- \">=\" denotes “greater than or equal to.”\n",
    "- \"<=\" denotes “less than or equal to.”\n",
    "- \"==\" denotes “equals, though do notice the double equal sign. A single equal sign would assign a value. Double equal signs are used to compare variables.\n",
    "- \"!=\" denotes “not equal to.\n",
    "\n",
    "Koşullu ifadeler, **sol taraftaki bir terimi sağ taraftaki bir terimle karşılaştırır.**\n",
    "\n",
    "**NOT : = atama yaparken, == eşitlik yapar.**\n",
    "\n"
   ]
  },
  {
   "cell_type": "markdown",
   "id": "e206f102",
   "metadata": {},
   "source": [
    "## **Control Flow, if,elif, and else**"
   ]
  },
  {
   "cell_type": "markdown",
   "id": "0cdcc36b",
   "metadata": {},
   "source": [
    "**Flowchart şemaları** için [Burayı](https://cs50.harvard.edu/python/2022/notes/1/#control-flow-elif-and-else) oku."
   ]
  },
  {
   "cell_type": "markdown",
   "id": "55bb9856",
   "metadata": {},
   "source": [
    "## **Match**"
   ]
  },
  {
   "cell_type": "raw",
   "id": "70933e40",
   "metadata": {},
   "source": [
    "  name = input(\"What's your name? \")\n",
    "\n",
    "  if name == \"Harry\":\n",
    "      print(\"Gryffindor\")\n",
    "  elif name == \"Hermione\":\n",
    "      print(\"Gryffindor\")\n",
    "  elif name == \"Ron\": \n",
    "      print(\"Gryffindor\")\n",
    "  elif name == \"Draco\":\n",
    "      print(\"Slytherin\")\n",
    "  else:\n",
    "      print(\"Who?\")"
   ]
  },
  {
   "cell_type": "markdown",
   "id": "2d0c089c",
   "metadata": {},
   "source": [
    "Yukarıdaki kodu match kullanarak daha efektik hale getirebiliriz.\n",
    "\n",
    "Match : **if, elif ve else** ifadelerine benzer şekilde, **eşleşme ifadeleri belirli değerlerle eşleşen kodu koşullu olarak çalıştırmak için** kullanılabilir.\n"
   ]
  },
  {
   "cell_type": "raw",
   "id": "185a46a9",
   "metadata": {},
   "source": [
    "  name = input(\"What's your name? \")\n",
    "\n",
    "  match name: \n",
    "      case \"Harry\" | \"Hermione\" | \"Ron\":\n",
    "          print(\"Gryffindor\")\n",
    "      case \"Draco\":\n",
    "          print(\"Slytherin\")\n",
    "      case _:\n",
    "          print(\"Who?\")\n",
    "          \n",
    "| -> veya anlamına gelir"
   ]
  },
  {
   "cell_type": "markdown",
   "id": "79a0644a",
   "metadata": {},
   "source": [
    "## **PSET Açıklaması**"
   ]
  },
  {
   "cell_type": "markdown",
   "id": "8968f8c5",
   "metadata": {},
   "source": [
    "CS50P derslerinde her ders sonunda **problem-set'ler** bulunur; **problem-set'ler işlenilen ders ve öncesindeki dersleri** kapsar."
   ]
  }
 ],
 "metadata": {
  "kernelspec": {
   "display_name": "Python 3 (ipykernel)",
   "language": "python",
   "name": "python3"
  },
  "language_info": {
   "codemirror_mode": {
    "name": "ipython",
    "version": 3
   },
   "file_extension": ".py",
   "mimetype": "text/x-python",
   "name": "python",
   "nbconvert_exporter": "python",
   "pygments_lexer": "ipython3",
   "version": "3.9.12"
  }
 },
 "nbformat": 4,
 "nbformat_minor": 5
}
