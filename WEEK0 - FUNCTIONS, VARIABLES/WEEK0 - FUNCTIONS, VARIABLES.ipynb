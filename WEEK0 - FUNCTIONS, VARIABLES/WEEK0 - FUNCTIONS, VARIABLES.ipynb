{
 "cells": [
  {
   "cell_type": "markdown",
   "id": "39d2a0ca",
   "metadata": {},
   "source": [
    "# **Python Programlama Dili**"
   ]
  },
  {
   "cell_type": "markdown",
   "id": "b0f228d7",
   "metadata": {},
   "source": [
    "## **Python ile Kod Oluşturma**"
   ]
  },
  {
   "cell_type": "markdown",
   "id": "3902ad6d",
   "metadata": {},
   "source": [
    "VSCODE, derleyici adı verilen özel bir **metin düzenleyici** türüdür. **En üstte bir metin düzenleyici** göreceksiniz ve **altta komutları çalıştırabileceğiniz bir terminal** göreceksiniz.\n",
    "\n",
    "Terminale **code dosya_ismi.py** yazarak dosya_ismi adında bir dosya açabilirsiniz.\n",
    "\n",
    "Python dosyasını doldurduktan sonra terminale **python dosya_ismi.py** yazarak kodu çalıştırabilirsiniz.\n"
   ]
  },
  {
   "cell_type": "markdown",
   "id": "e2a94982",
   "metadata": {},
   "source": [
    "## **Fonksiyonlar**"
   ]
  },
  {
   "cell_type": "markdown",
   "id": "26dcaa5b",
   "metadata": {},
   "source": [
    "Fonksiyonlar, bilgisayarın veya bilgisayar dilinin nasıl gerçekleştirileceğini bilen fiiller veya eylemlerdir.\n",
    "\n",
    "**print(),input()** fonksiyona örnek verilebilir.\n"
   ]
  },
  {
   "cell_type": "markdown",
   "id": "dd24bfab",
   "metadata": {},
   "source": [
    "## **Buglar**"
   ]
  },
  {
   "cell_type": "markdown",
   "id": "e38c2c56",
   "metadata": {},
   "source": [
    "Hatalar, kodlamanın doğal bir parçasıdır.\n",
    "\n",
    "Örnek bir hata örneği -> print(\"hello, world\" \n",
    "\n",
    "('i kapatmayı unuttuğumuz için [**)**] progra hata vericektir, eğer problemi anlaşılmazsa **stackoverflow** kullanılabilir."
   ]
  },
  {
   "cell_type": "markdown",
   "id": "eb581e43",
   "metadata": {},
   "source": [
    "## **Değişkenler**"
   ]
  },
  {
   "cell_type": "markdown",
   "id": "8299bf84",
   "metadata": {},
   "source": [
    "Değişken, programınızdaki bir değer için bir **kapsayıcı(ad-tutucu)'dur.**\n",
    "\n",
    "-> name = input(\"İsminiz ? )\n",
    "\n",
    "Bu eşittir(=) işareti, kelimenin tam anlamıyla sağdakini soldakine atar, **matematikteki eşittir anlamına gelmez.**\n",
    "\n",
    "[Python'un veri türleri](https://docs.python.org/3/library/datatypes.html) hakkındaki belgelerinde daha fazla bilgi edinebilirsiniz.\n",
    "\n",
    "\"#\" pythonda yorum bloğu anlamına gelir, koda etki etmez.\n",
    "\n"
   ]
  },
  {
   "cell_type": "markdown",
   "id": "716f31b1",
   "metadata": {},
   "source": [
    "## **Değişken Tipleri**"
   ]
  },
  {
   "cell_type": "markdown",
   "id": "06ec3527",
   "metadata": {},
   "source": [
    "- str -> kelime,harfler\n",
    "- int -> tam sayılar\n",
    "- float -> ondalık sayılar\n",
    "- ..\n",
    "\n"
   ]
  },
  {
   "cell_type": "markdown",
   "id": "4f085b89",
   "metadata": {},
   "source": [
    "## **Tırnak işaretleri ile ilgili küçük bir sorun**\n"
   ]
  },
  {
   "cell_type": "markdown",
   "id": "3971b55c",
   "metadata": {},
   "source": [
    "print(\"merhaba,\"world\"\") çalışmayacak ve derleyici bir hata verecektir.\n",
    "\n",
    "Çözüm olarak: print(\"hello, \\\\\"world\\\\\" \")'yu kullanabilir\n",
    "\n",
    "- **\\ :** kaçış bloğu anlamına gelir\n"
   ]
  },
  {
   "cell_type": "markdown",
   "id": "2247978c",
   "metadata": {},
   "source": [
    "## **Tanım(def)**"
   ]
  },
  {
   "cell_type": "raw",
   "id": "a1805e6c",
   "metadata": {},
   "source": [
    "def main():\n",
    "    x = int(input(\"X'in değeri? \"))\n",
    "    print(\"x'in karesi \", kare_al(x))\n",
    "\n",
    "\n",
    "def kare_al(n):\n",
    "    return n * n\n",
    "\n",
    "\n",
    "main()"
   ]
  },
  {
   "cell_type": "markdown",
   "id": "33f77175",
   "metadata": {},
   "source": [
    "x **kare_al** fonksiyonuna geçirilir. Daha sonra **x * x** hesaplaması ana fonksiyona geri döndürülür.\n"
   ]
  },
  {
   "cell_type": "markdown",
   "id": "c62a0061",
   "metadata": {},
   "source": [
    "## **PSET Açıklaması**"
   ]
  },
  {
   "cell_type": "markdown",
   "id": "f6f72b54",
   "metadata": {},
   "source": [
    "CS50P derslerinde her ders sonunda **problem-set'ler** bulunur; **problem-set'ler işlenilen ders ve öncesindeki dersleri** kapsar."
   ]
  },
  {
   "cell_type": "code",
   "execution_count": null,
   "id": "93292e71",
   "metadata": {},
   "outputs": [],
   "source": []
  }
 ],
 "metadata": {
  "kernelspec": {
   "display_name": "Python 3 (ipykernel)",
   "language": "python",
   "name": "python3"
  },
  "language_info": {
   "codemirror_mode": {
    "name": "ipython",
    "version": 3
   },
   "file_extension": ".py",
   "mimetype": "text/x-python",
   "name": "python",
   "nbconvert_exporter": "python",
   "pygments_lexer": "ipython3",
   "version": "3.9.12"
  }
 },
 "nbformat": 4,
 "nbformat_minor": 5
}
