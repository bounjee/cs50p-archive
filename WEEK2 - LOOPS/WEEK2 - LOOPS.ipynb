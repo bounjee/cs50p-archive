{
 "cells": [
  {
   "cell_type": "markdown",
   "id": "a34e0eeb",
   "metadata": {},
   "source": [
    "# **Loops**"
   ]
  },
  {
   "cell_type": "markdown",
   "id": "3cb1fd34",
   "metadata": {},
   "source": [
    "Esasen, döngüler **bir şeyi tekrar tekrar yapmanın bir yoludur.**\n",
    "\n",
    "Döngüler, tekrar tekrar yürütülen bir **kod bloğu oluşturmanıza olanak tanır.**\n",
    "\n",
    "\n"
   ]
  },
  {
   "cell_type": "markdown",
   "id": "7c26668b",
   "metadata": {},
   "source": [
    "## **While Loops**"
   ]
  },
  {
   "cell_type": "markdown",
   "id": "f27b1e1d",
   "metadata": {},
   "source": [
    "While döngüsü, tüm kodlama dillerinde **neredeyse evrenseldir.**\n"
   ]
  },
  {
   "cell_type": "raw",
   "id": "0bfc0a9a",
   "metadata": {},
   "source": [
    "i = 3\n",
    "while i != 0:\n",
    "    print(\"meow\")"
   ]
  },
  {
   "cell_type": "markdown",
   "id": "bbe3c459",
   "metadata": {},
   "source": [
    "Bu kodun print(\"miyav\") işlemini birden çok kez yürütmesine rağmen asla durmadığına dikkat edin! Sonsuza kadar döngü olacak. while döngüleri, **döngü koşulunun yerine getirilip getirilmediğini tekrar tekrar sorarak çalışır. Bu durumda, derleyici \"i sıfıra eşit değil mi?\" diye soruyor. Sonsuza kadar devam eden bir döngüde sıkışıp** kaldığınızda, döngüden çıkmak için **klavyenizdeki control-c tuşlarına basabilirsiniz.**"
   ]
  },
  {
   "cell_type": "raw",
   "id": "595bd360",
   "metadata": {},
   "source": [
    "i = 3\n",
    "while i != 0:\n",
    "  print(\"meow\")\n",
    "  i = i - 1"
   ]
  },
  {
   "cell_type": "markdown",
   "id": "85fbac80",
   "metadata": {},
   "source": [
    "Düzgün hali yukarıdadır."
   ]
  },
  {
   "cell_type": "markdown",
   "id": "57297b0e",
   "metadata": {},
   "source": [
    "## **For Loops**"
   ]
  },
  {
   "cell_type": "markdown",
   "id": "76250816",
   "metadata": {},
   "source": [
    "Bir for döngüsünü en iyi şekilde anlamak için, Python'da list adı verilen yeni bir değişken türü hakkında konuşarak başlamak en iyisidir. Hayatımızın diğer alanlarında olduğu gibi, alışveriş listemiz, yapılacaklar listemiz vb. olabilir.\n"
   ]
  },
  {
   "cell_type": "markdown",
   "id": "108e5f46",
   "metadata": {},
   "source": [
    "Kodumuzda i'yi asla açıkça kullanmadığımıza dikkat edin. Yani Python, döngünün yineleme sayısını depolamak için bir yer olarak i'ye ihtiyaç duyarken, onu asla başka bir amaç için kullanmayız. Python'da, böyle bir değişkenin kodumuzda başka bir anlamı yoksa, bu değişkeni tek bir alt çizgi _ olarak gösterebiliriz. Bu nedenle, kodunuzu aşağıdaki gibi değiştirebilirsiniz:"
   ]
  },
  {
   "cell_type": "raw",
   "id": "44caeadf",
   "metadata": {},
   "source": [
    "for i in range(3):\n",
    "    print(\"meow\")  BUNDAN\n",
    "    \n",
    "for _ in range(3):\n",
    "    print(\"meow\")  BUNA"
   ]
  },
  {
   "cell_type": "markdown",
   "id": "6fd586a6",
   "metadata": {},
   "source": [
    "## **Listeler, Sözlükler**"
   ]
  },
  {
   "cell_type": "raw",
   "id": "2bdd0784",
   "metadata": {},
   "source": [
    "students = [\"Hermoine\", \"Harry\", \"Ron\"] # liste\n",
    "\n",
    "\n",
    "students = {\n",
    "    \"Hermoine\": \"Gryffindor\",\n",
    "    \"Harry\": \"Gryffindor\",\n",
    "    \"Ron\": \"Gryffindor\",\n",
    "    \"Draco\": \"Slytherin\",\n",
    "}  # dict"
   ]
  },
  {
   "cell_type": "markdown",
   "id": "0e3cc62b",
   "metadata": {},
   "source": [
    "## **Length**"
   ]
  },
  {
   "cell_type": "raw",
   "id": "f2a60edd",
   "metadata": {},
   "source": [
    "students = [\"Hermoine\", \"Harry\", \"Ron\"]\n",
    "\n",
    "for i in range(len(students)): ## len(studens) = 3\n",
    "    print(i + 1, students[i])"
   ]
  },
  {
   "cell_type": "markdown",
   "id": "f4f9a2e9",
   "metadata": {},
   "source": [
    "## **PSET Açıklaması**"
   ]
  },
  {
   "cell_type": "markdown",
   "id": "688f194c",
   "metadata": {},
   "source": [
    "CS50P derslerinde her ders sonunda **problem-set'ler** bulunur; **problem-set'ler işlenilen ders ve öncesindeki dersleri** kapsar."
   ]
  }
 ],
 "metadata": {
  "kernelspec": {
   "display_name": "Python 3 (ipykernel)",
   "language": "python",
   "name": "python3"
  },
  "language_info": {
   "codemirror_mode": {
    "name": "ipython",
    "version": 3
   },
   "file_extension": ".py",
   "mimetype": "text/x-python",
   "name": "python",
   "nbconvert_exporter": "python",
   "pygments_lexer": "ipython3",
   "version": "3.9.12"
  }
 },
 "nbformat": 4,
 "nbformat_minor": 5
}
